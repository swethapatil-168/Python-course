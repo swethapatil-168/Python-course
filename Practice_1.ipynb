{
  "nbformat": 4,
  "nbformat_minor": 0,
  "metadata": {
    "colab": {
      "name": "Practice-1.ipynb",
      "provenance": [],
      "collapsed_sections": [],
      "authorship_tag": "ABX9TyPiIu3Qel54qpQuqya+uQSh",
      "include_colab_link": true
    },
    "kernelspec": {
      "display_name": "Python 3",
      "name": "python3"
    },
    "language_info": {
      "name": "python"
    }
  },
  "cells": [
    {
      "cell_type": "markdown",
      "metadata": {
        "id": "view-in-github",
        "colab_type": "text"
      },
      "source": [
        "<a href=\"https://colab.research.google.com/github/swethapatil-168/Python-course/blob/main/Practice_1.ipynb\" target=\"_parent\"><img src=\"https://colab.research.google.com/assets/colab-badge.svg\" alt=\"Open In Colab\"/></a>"
      ]
    },
    {
      "cell_type": "code",
      "metadata": {
        "colab": {
          "base_uri": "https://localhost:8080/"
        },
        "id": "A_c-SqcRL9E8",
        "outputId": "e1bfd4fb-d62b-4a5a-9151-36c7c88ec078"
      },
      "source": [
        "a=4\n",
        "b=5\n",
        "print(a+b)\n",
        "print(a-b)\n",
        "print(a*b)\n",
        "print(a/b)\n",
        "print(a%b)\n",
        "print(a**b) # a to the power b"
      ],
      "execution_count": null,
      "outputs": [
        {
          "output_type": "stream",
          "text": [
            "9\n",
            "-1\n",
            "20\n",
            "0.8\n",
            "4\n",
            "1024\n"
          ],
          "name": "stdout"
        }
      ]
    },
    {
      "cell_type": "code",
      "metadata": {
        "colab": {
          "base_uri": "https://localhost:8080/"
        },
        "id": "DSzeVJk8PCtt",
        "outputId": "ddeec8ca-8583-44d1-c4cc-5790d81ee607"
      },
      "source": [
        "a = input(\"Enter the string:\")\n",
        "b = input(\"Enter the number:\")\n",
        "c = a + \" \" + b\n",
        "print(c)"
      ],
      "execution_count": null,
      "outputs": [
        {
          "output_type": "stream",
          "text": [
            "Enter the string:bmsce\n",
            "Enter the number:1\n",
            "bmsce 1\n"
          ],
          "name": "stdout"
        }
      ]
    },
    {
      "cell_type": "code",
      "metadata": {
        "colab": {
          "base_uri": "https://localhost:8080/"
        },
        "id": "Hjzd-k1nPQrK",
        "outputId": "c968dea6-4a8c-4120-a12f-519504150e2a"
      },
      "source": [
        "a=4\n",
        "b=4.5\n",
        "d=a*b\n",
        "print(d)\n",
        "print(type(d))"
      ],
      "execution_count": null,
      "outputs": [
        {
          "output_type": "stream",
          "text": [
            "18.0\n",
            "<class 'float'>\n"
          ],
          "name": "stdout"
        }
      ]
    },
    {
      "cell_type": "code",
      "metadata": {
        "colab": {
          "base_uri": "https://localhost:8080/"
        },
        "id": "qvXQrqTORzGt",
        "outputId": "f2d06124-d99f-4c39-ac44-e20b2aa5b2d5"
      },
      "source": [
        "a=input(\"Enter string 1\")\n",
        "b=input(\"Enter string 2\")\n",
        "print(a+\" \" +b)\n",
        "print(a,b)"
      ],
      "execution_count": null,
      "outputs": [
        {
          "output_type": "stream",
          "text": [
            "Enter string 1hello\n",
            "Enter string 2world\n",
            "hello world\n",
            "hello world\n"
          ],
          "name": "stdout"
        }
      ]
    },
    {
      "cell_type": "code",
      "metadata": {
        "colab": {
          "base_uri": "https://localhost:8080/"
        },
        "id": "oa2VAkh-Skl4",
        "outputId": "3c6ea69e-6c79-427c-b58e-b90d4072abc2"
      },
      "source": [
        "a=input(\"Enter string \")\n",
        "b=input(\"Enter number \")\n",
        "print(a+\" \"+str(b))"
      ],
      "execution_count": null,
      "outputs": [
        {
          "output_type": "stream",
          "text": [
            "Enter string hello\n",
            "Enter number 1\n",
            "hello 1\n"
          ],
          "name": "stdout"
        }
      ]
    },
    {
      "cell_type": "code",
      "metadata": {
        "id": "x-R9c1k-TOTa"
      },
      "source": [
        "x=float(input(\"Enter number for x: \"))\n",
        "y=float(input(\"Enter number for y: \"))\n",
        "if x==y: \n",
        "  print(\"x and y are equal\")\n",
        "  if y!= 0:\n",
        "    print(\"thus x/y is\",x/y)\n",
        "elif x<y: \n",
        "  print(\"x is smaller\")\n",
        "else:\n",
        "  print(\"y is smaller\")\n",
        "print(\"thanks\")"
      ],
      "execution_count": null,
      "outputs": []
    },
    {
      "cell_type": "code",
      "metadata": {
        "colab": {
          "base_uri": "https://localhost:8080/"
        },
        "id": "T2OH9XLDjuV8",
        "outputId": "d3777093-d89d-4e7f-c73c-241538774d66"
      },
      "source": [
        "x= input(\"Enter string x:\")\n",
        "y= input('Enter string y:')\n",
        "if x==y: \n",
        "  print(\"x and y are equal\")\n",
        "  if y!= 0:\n",
        "   for i in y:\n",
        "     print(ord(i),end=\" \")\n",
        "\n",
        "elif x<y: \n",
        "  print(x+\" \"+y)\n",
        "else:\n",
        "  n=input(\"any number: \")\n",
        "  print((x+\"  \"+y)*n)"
      ],
      "execution_count": null,
      "outputs": [
        {
          "output_type": "stream",
          "text": [
            "Enter string x:hello\n",
            "Enter string y:hello\n",
            "x and y are equal\n",
            "104 101 108 108 111 "
          ],
          "name": "stdout"
        }
      ]
    },
    {
      "cell_type": "code",
      "metadata": {
        "colab": {
          "base_uri": "https://localhost:8080/"
        },
        "id": "NUgfs1l3k0Ly",
        "outputId": "4d86625a-477e-4bc6-e9ab-fccd81c04fe8"
      },
      "source": [
        "pi = 3.14159 \n",
        "diameter = 3\n",
        "\n",
        "radius = diameter/2\n",
        "print(\"radius:\",radius)\n",
        "# Create a variable called 'area', using the formula for the area of a circle: pi times the radius square\n",
        "area= pi * (radius**2)\n",
        "print(\"area:\",area)"
      ],
      "execution_count": null,
      "outputs": [
        {
          "output_type": "stream",
          "text": [
            "radius: 1.5\n",
            "area: 7.0685775\n"
          ],
          "name": "stdout"
        }
      ]
    },
    {
      "cell_type": "code",
      "metadata": {
        "colab": {
          "base_uri": "https://localhost:8080/"
        },
        "id": "Yt4I7Cx2lGyD",
        "outputId": "b43ab687-91ef-4645-f71a-33eac3b912f7"
      },
      "source": [
        "a = 2\n",
        "b = 3\n",
        "print(\"Before swapping a =\",a,\" b =\",b)\n",
        "a,b=b,a\n",
        "print(\"After swapping a =\",a,\" b =\",b)"
      ],
      "execution_count": null,
      "outputs": [
        {
          "output_type": "stream",
          "text": [
            "Before swapping a = 2  b = 3\n",
            "After swapping a = 3  b = 2\n"
          ],
          "name": "stdout"
        }
      ]
    },
    {
      "cell_type": "code",
      "metadata": {
        "colab": {
          "base_uri": "https://localhost:8080/"
        },
        "id": "DjSfjNLclLvU",
        "outputId": "b509b947-1376-4324-861a-82f3a844d512"
      },
      "source": [
        "a_candies = 12\n",
        "b_candies = 7\n",
        "c_candies = 15\n",
        "tot_candies = a_candies + b_candies + c_candies\n",
        "to_smash = tot_candies % 3\n",
        "print(\"the candies to be smashed is :\",to_smash)"
      ],
      "execution_count": null,
      "outputs": [
        {
          "output_type": "stream",
          "text": [
            "the candies to be smashed is : 1\n"
          ],
          "name": "stdout"
        }
      ]
    },
    {
      "cell_type": "code",
      "metadata": {
        "colab": {
          "background_save": true,
          "base_uri": "https://localhost:8080/"
        },
        "id": "aPvUTr9llnRM",
        "outputId": "5bb5d251-b326-4d18-faa2-3a22a1ad907c"
      },
      "source": [
        "n = input(\"********\\n    😃    \\n********\\n Go left or right \")\n",
        "a = 0\n",
        "while n == \"right\":\n",
        "\n",
        "    a+=1\n",
        "    if (a <= 3):\n",
        "        print(\"You are on the correct path go ahead 😃\")\n",
        "        n = input(\"********\\n    😃    \\n********\\n Go left or right \")\n",
        "\n",
        "    else:\n",
        "        print(\"You are in Wrong path \")\n",
        "        n = input(\"********\\n    😔   \\n********\\n Go left or right \")"
      ],
      "execution_count": null,
      "outputs": [
        {
          "output_type": "stream",
          "text": [
            "You are on the correct path go ahead 😃\n",
            "You are on the correct path go ahead 😃\n",
            "You are on the correct path go ahead 😃\n"
          ],
          "name": "stdout"
        }
      ]
    }
  ]
}
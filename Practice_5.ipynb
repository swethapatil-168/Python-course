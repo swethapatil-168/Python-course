{
  "nbformat": 4,
  "nbformat_minor": 0,
  "metadata": {
    "colab": {
      "name": "Practice-5.ipynb",
      "provenance": [],
      "authorship_tag": "ABX9TyNxVhqO4sTqm6wRPZxO9z28",
      "include_colab_link": true
    },
    "kernelspec": {
      "name": "python3",
      "display_name": "Python 3"
    },
    "language_info": {
      "name": "python"
    }
  },
  "cells": [
    {
      "cell_type": "markdown",
      "metadata": {
        "id": "view-in-github",
        "colab_type": "text"
      },
      "source": [
        "<a href=\"https://colab.research.google.com/github/swethapatil-168/Python-course/blob/main/Practice_5.ipynb\" target=\"_parent\"><img src=\"https://colab.research.google.com/assets/colab-badge.svg\" alt=\"Open In Colab\"/></a>"
      ]
    },
    {
      "cell_type": "markdown",
      "metadata": {
        "id": "CXNpOqDTalTf"
      },
      "source": [
        "Numpy"
      ]
    },
    {
      "cell_type": "code",
      "metadata": {
        "colab": {
          "base_uri": "https://localhost:8080/"
        },
        "id": "clzZYbz4arSG",
        "outputId": "f58c8909-edcd-4818-c7e2-d849f77fbea4"
      },
      "source": [
        "import numpy as np\n",
        "a = np.arange(15).reshape(3, 5)\n",
        "a "
      ],
      "execution_count": 2,
      "outputs": [
        {
          "output_type": "execute_result",
          "data": {
            "text/plain": [
              "array([[ 0,  1,  2,  3,  4],\n",
              "       [ 5,  6,  7,  8,  9],\n",
              "       [10, 11, 12, 13, 14]])"
            ]
          },
          "metadata": {},
          "execution_count": 2
        }
      ]
    },
    {
      "cell_type": "code",
      "metadata": {
        "colab": {
          "base_uri": "https://localhost:8080/"
        },
        "id": "R_JeQtgAa9FA",
        "outputId": "0c30d094-f0c5-4cb1-f8ea-1c5e6c2a1cb9"
      },
      "source": [
        "a.shape "
      ],
      "execution_count": 5,
      "outputs": [
        {
          "output_type": "execute_result",
          "data": {
            "text/plain": [
              "(3, 5)"
            ]
          },
          "metadata": {},
          "execution_count": 5
        }
      ]
    },
    {
      "cell_type": "code",
      "metadata": {
        "colab": {
          "base_uri": "https://localhost:8080/"
        },
        "id": "vGXV__zqbZOR",
        "outputId": "13999a04-c7aa-4475-de2a-283bc66b7c70"
      },
      "source": [
        "a.ndim"
      ],
      "execution_count": 6,
      "outputs": [
        {
          "output_type": "execute_result",
          "data": {
            "text/plain": [
              "2"
            ]
          },
          "metadata": {},
          "execution_count": 6
        }
      ]
    },
    {
      "cell_type": "code",
      "metadata": {
        "colab": {
          "base_uri": "https://localhost:8080/",
          "height": 35
        },
        "id": "5VMI0wFWbcXQ",
        "outputId": "7cc13e44-bd9f-4492-9d68-0b4144208902"
      },
      "source": [
        "a.dtype.name"
      ],
      "execution_count": 7,
      "outputs": [
        {
          "output_type": "execute_result",
          "data": {
            "application/vnd.google.colaboratory.intrinsic+json": {
              "type": "string"
            },
            "text/plain": [
              "'int64'"
            ]
          },
          "metadata": {},
          "execution_count": 7
        }
      ]
    },
    {
      "cell_type": "code",
      "metadata": {
        "colab": {
          "base_uri": "https://localhost:8080/"
        },
        "id": "r-7kgJxzbgzc",
        "outputId": "92174bab-0041-4252-a533-e24ad102df8a"
      },
      "source": [
        "a.itemsize"
      ],
      "execution_count": 8,
      "outputs": [
        {
          "output_type": "execute_result",
          "data": {
            "text/plain": [
              "8"
            ]
          },
          "metadata": {},
          "execution_count": 8
        }
      ]
    },
    {
      "cell_type": "code",
      "metadata": {
        "colab": {
          "base_uri": "https://localhost:8080/"
        },
        "id": "P6cFvtEfbjwQ",
        "outputId": "845fd9a0-a4cb-4fde-edc5-b94517e10213"
      },
      "source": [
        "a.size"
      ],
      "execution_count": 9,
      "outputs": [
        {
          "output_type": "execute_result",
          "data": {
            "text/plain": [
              "15"
            ]
          },
          "metadata": {},
          "execution_count": 9
        }
      ]
    },
    {
      "cell_type": "code",
      "metadata": {
        "colab": {
          "base_uri": "https://localhost:8080/"
        },
        "id": "f-_Id1wcbmSA",
        "outputId": "611360f0-7e25-4df7-8578-9b8f872e23bb"
      },
      "source": [
        "b= np.array([(1,2,3,4) ,(5,6,7,8)])\n",
        "print(b)\n",
        "c=np.array([[1,2],[3,4]], dtype=complex)\n",
        "print(c)"
      ],
      "execution_count": 21,
      "outputs": [
        {
          "output_type": "stream",
          "text": [
            "[[1 2 3 4]\n",
            " [5 6 7 8]]\n",
            "[[1.+0.j 2.+0.j]\n",
            " [3.+0.j 4.+0.j]]\n"
          ],
          "name": "stdout"
        }
      ]
    },
    {
      "cell_type": "code",
      "metadata": {
        "colab": {
          "base_uri": "https://localhost:8080/"
        },
        "id": "_4fu9NeOcUJU",
        "outputId": "7094a521-b3f6-4d23-a2d3-fee2f1e29351"
      },
      "source": [
        "print(np.zeros((3,4)),'\\n')\n",
        "print(np.ones((4, 3, 4), dtype=np.int16),'\\n')\n",
        "print(np.empty((2,3)))"
      ],
      "execution_count": 28,
      "outputs": [
        {
          "output_type": "stream",
          "text": [
            "[[0. 0. 0. 0.]\n",
            " [0. 0. 0. 0.]\n",
            " [0. 0. 0. 0.]] \n",
            "\n",
            "[[[1 1 1 1]\n",
            "  [1 1 1 1]\n",
            "  [1 1 1 1]]\n",
            "\n",
            " [[1 1 1 1]\n",
            "  [1 1 1 1]\n",
            "  [1 1 1 1]]\n",
            "\n",
            " [[1 1 1 1]\n",
            "  [1 1 1 1]\n",
            "  [1 1 1 1]]\n",
            "\n",
            " [[1 1 1 1]\n",
            "  [1 1 1 1]\n",
            "  [1 1 1 1]]] \n",
            "\n",
            "[[1.39069238e-309 1.39069238e-309 1.39069238e-309]\n",
            " [1.39069238e-309 1.39069238e-309 1.39069238e-309]]\n"
          ],
          "name": "stdout"
        }
      ]
    },
    {
      "cell_type": "code",
      "metadata": {
        "colab": {
          "base_uri": "https://localhost:8080/"
        },
        "id": "1y4xGQeDb07T",
        "outputId": "a5a6f64b-4f10-4dd8-c61d-1cd16b3a5fd5"
      },
      "source": [
        "np.arange(10, 30, 5)\n",
        "# np.arange(0, 2, 0.3)"
      ],
      "execution_count": 31,
      "outputs": [
        {
          "output_type": "execute_result",
          "data": {
            "text/plain": [
              "array([10, 15, 20, 25])"
            ]
          },
          "metadata": {},
          "execution_count": 31
        }
      ]
    },
    {
      "cell_type": "code",
      "metadata": {
        "colab": {
          "base_uri": "https://localhost:8080/"
        },
        "id": "XzUOGXZdd1DR",
        "outputId": "d520f370-e182-4b48-f920-30c862885031"
      },
      "source": [
        "from numpy import pi\n",
        "np.linspace(0, 2, 9)\n",
        "x = np.linspace(0, 2*pi, 100)\n",
        "f = np.tanh(x)\n",
        "f"
      ],
      "execution_count": 38,
      "outputs": [
        {
          "output_type": "execute_result",
          "data": {
            "text/plain": [
              "array([0.        , 0.06338144, 0.12625569, 0.18813165, 0.24854937,\n",
              "       0.30709305, 0.36340125, 0.41717396, 0.46817631, 0.51623904,\n",
              "       0.56125619, 0.60318055, 0.64201738, 0.6778171 , 0.71066753,\n",
              "       0.74068615, 0.76801266, 0.79280227, 0.81521977, 0.83543448,\n",
              "       0.85361606, 0.86993125, 0.8845413 , 0.89760013, 0.90925308,\n",
              "       0.91963611, 0.92887539, 0.93708726, 0.94437835, 0.9508459 ,\n",
              "       0.95657821, 0.96165517, 0.96614879, 0.97012382, 0.97363834,\n",
              "       0.9767443 , 0.97948812, 0.98191117, 0.9840503 , 0.98593825,\n",
              "       0.98760412, 0.98907373, 0.99036995, 0.99151305, 0.99252098,\n",
              "       0.99340959, 0.99419294, 0.99488341, 0.99549197, 0.99602829,\n",
              "       0.99650092, 0.99691739, 0.99728436, 0.9976077 , 0.99789258,\n",
              "       0.99814357, 0.99836469, 0.99855949, 0.9987311 , 0.99888228,\n",
              "       0.99901545, 0.99913277, 0.99923611, 0.99932714, 0.99940732,\n",
              "       0.99947796, 0.99954017, 0.99959498, 0.99964325, 0.99968577,\n",
              "       0.99972322, 0.99975621, 0.99978527, 0.99981087, 0.99983341,\n",
              "       0.99985327, 0.99987076, 0.99988616, 0.99989973, 0.99991169,\n",
              "       0.99992221, 0.99993149, 0.99993965, 0.99994685, 0.99995318,\n",
              "       0.99995876, 0.99996368, 0.99996801, 0.99997182, 0.99997518,\n",
              "       0.99997814, 0.99998075, 0.99998304, 0.99998506, 0.99998684,\n",
              "       0.99998841, 0.99998979, 0.99999101, 0.99999208, 0.99999303])"
            ]
          },
          "metadata": {},
          "execution_count": 38
        }
      ]
    },
    {
      "cell_type": "code",
      "metadata": {
        "colab": {
          "base_uri": "https://localhost:8080/"
        },
        "id": "wpa4SweHePFq",
        "outputId": "71e30566-8d7f-4c67-f024-594274538023"
      },
      "source": [
        "print(np.arange(10000).reshape(100, 100))"
      ],
      "execution_count": 39,
      "outputs": [
        {
          "output_type": "stream",
          "text": [
            "[[   0    1    2 ...   97   98   99]\n",
            " [ 100  101  102 ...  197  198  199]\n",
            " [ 200  201  202 ...  297  298  299]\n",
            " ...\n",
            " [9700 9701 9702 ... 9797 9798 9799]\n",
            " [9800 9801 9802 ... 9897 9898 9899]\n",
            " [9900 9901 9902 ... 9997 9998 9999]]\n"
          ],
          "name": "stdout"
        }
      ]
    },
    {
      "cell_type": "code",
      "metadata": {
        "colab": {
          "base_uri": "https://localhost:8080/"
        },
        "id": "MhU9K5AjeVHT",
        "outputId": "5b7c44ab-b328-4f69-a140-28862a000a50"
      },
      "source": [
        "a = np.array([20, 30, 40, 50])\n",
        "b = np.arange(4)\n",
        "c = a -b \n",
        "c"
      ],
      "execution_count": 43,
      "outputs": [
        {
          "output_type": "execute_result",
          "data": {
            "text/plain": [
              "array([20, 29, 38, 47])"
            ]
          },
          "metadata": {},
          "execution_count": 43
        }
      ]
    },
    {
      "cell_type": "code",
      "metadata": {
        "colab": {
          "base_uri": "https://localhost:8080/"
        },
        "id": "YQ4K7loFegVS",
        "outputId": "0e0c5535-b032-40d6-c634-3fe488e60dfa"
      },
      "source": [
        "A = np.array([[1, 1],[0, 1]])\n",
        "B = np.array([[2, 0],[3, 4]])                       \n",
        "print(A * B,'\\n')    # elementwise product)\n",
        "print(A @ B,'\\n')     # matrix product\n",
        "print(A.dot(B),'\\n')"
      ],
      "execution_count": 46,
      "outputs": [
        {
          "output_type": "stream",
          "text": [
            "[[2 0]\n",
            " [0 4]] \n",
            "\n",
            "[[5 4]\n",
            " [3 4]] \n",
            "\n",
            "[[5 4]\n",
            " [3 4]] \n",
            "\n"
          ],
          "name": "stdout"
        }
      ]
    },
    {
      "cell_type": "code",
      "metadata": {
        "colab": {
          "base_uri": "https://localhost:8080/"
        },
        "id": "hkuey9QXfD04",
        "outputId": "3af7961f-8eb4-41b9-b19c-07925473a274"
      },
      "source": [
        "rg = np.random.default_rng(1)  # create instance of default random number generator\n",
        "a = np.ones((2, 3), dtype=int)\n",
        "b = rg.random((2, 3))\n",
        "a *= 3\n",
        "print(a)\n",
        "b += a\n",
        "print(b)\n"
      ],
      "execution_count": 49,
      "outputs": [
        {
          "output_type": "stream",
          "text": [
            "[[3 3 3]\n",
            " [3 3 3]]\n",
            "[[3.51182162 3.9504637  3.14415961]\n",
            " [3.94864945 3.31183145 3.42332645]]\n"
          ],
          "name": "stdout"
        }
      ]
    },
    {
      "cell_type": "code",
      "metadata": {
        "colab": {
          "base_uri": "https://localhost:8080/"
        },
        "id": "pzqLfLfafTo8",
        "outputId": "10b5cf0a-b89f-4064-b8f3-82feaeb8cde1"
      },
      "source": [
        "B = np.arange(3)\n",
        "print(B)\n",
        "print(np.exp(B))\n",
        "print(np.sqrt(B))\n",
        "C = np.array([2., -1., 4.])\n",
        "print(np.add(B, C) )"
      ],
      "execution_count": 53,
      "outputs": [
        {
          "output_type": "stream",
          "text": [
            "[0 1 2]\n",
            "[1.         2.71828183 7.3890561 ]\n",
            "[0.         1.         1.41421356]\n",
            "[2. 0. 6.]\n"
          ],
          "name": "stdout"
        }
      ]
    },
    {
      "cell_type": "code",
      "metadata": {
        "colab": {
          "base_uri": "https://localhost:8080/"
        },
        "id": "6Mat5N7FfhRO",
        "outputId": "394800a0-86de-4f4a-bb4a-7e7640c74a3f"
      },
      "source": [
        "a = np.arange(10)**3 \n",
        "a[2]\n",
        "print(a)\n",
        "a[2 : 5] \n",
        "print(a)\n",
        "a[ : 6 : 2] = 1000\n",
        "print(a)"
      ],
      "execution_count": 56,
      "outputs": [
        {
          "output_type": "stream",
          "text": [
            "[  0   1   8  27  64 125 216 343 512 729]\n",
            "[  0   1   8  27  64 125 216 343 512 729]\n",
            "[1000    1 1000   27 1000  125  216  343  512  729]\n"
          ],
          "name": "stdout"
        }
      ]
    }
  ]
}
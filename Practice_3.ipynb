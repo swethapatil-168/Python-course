{
  "nbformat": 4,
  "nbformat_minor": 0,
  "metadata": {
    "colab": {
      "name": "Practice-3.ipynb",
      "provenance": [],
      "collapsed_sections": [],
      "include_colab_link": true
    },
    "kernelspec": {
      "name": "python3",
      "display_name": "Python 3"
    },
    "language_info": {
      "name": "python"
    }
  },
  "cells": [
    {
      "cell_type": "markdown",
      "metadata": {
        "id": "view-in-github",
        "colab_type": "text"
      },
      "source": [
        "<a href=\"https://colab.research.google.com/github/swethapatil-168/Python-course/blob/main/Practice_3.ipynb\" target=\"_parent\"><img src=\"https://colab.research.google.com/assets/colab-badge.svg\" alt=\"Open In Colab\"/></a>"
      ]
    },
    {
      "cell_type": "markdown",
      "metadata": {
        "id": "fw2ULGlEIlvB"
      },
      "source": [
        "# 1.\n",
        "\n",
        "Complete the body of the following function according to its docstring."
      ]
    },
    {
      "cell_type": "code",
      "metadata": {
        "id": "c7mUl2inIidX",
        "colab": {
          "base_uri": "https://localhost:8080/"
        },
        "outputId": "f2d2236d-f4b2-4cfe-ea58-a4dc91950d6e"
      },
      "source": [
        "def round_to_two_places(num):\n",
        "    \"\"\"Return the given number rounded to two decimal places. \n",
        "    \n",
        "    >>> round_to_two_places(3.14159)\n",
        "    3.14\n",
        "    \"\"\"\n",
        "    # Replace this body with your own code.\n",
        "    return round(num,2)\n",
        "\n",
        "round_to_two_places(3.14159)"
      ],
      "execution_count": null,
      "outputs": [
        {
          "output_type": "execute_result",
          "data": {
            "text/plain": [
              "3.14"
            ]
          },
          "metadata": {
            "tags": []
          },
          "execution_count": 31
        }
      ]
    },
    {
      "cell_type": "markdown",
      "metadata": {
        "id": "Ze4i9XtbJEPo"
      },
      "source": [
        "# 2.\n",
        "The `round` function says that `ndigits` (the second argument) may be negative.\n",
        "What do you think will happen when it is? Try some examples in the following cell."
      ]
    },
    {
      "cell_type": "code",
      "metadata": {
        "id": "49F_xLwGJOtR",
        "colab": {
          "base_uri": "https://localhost:8080/"
        },
        "outputId": "c351df82-1782-4a7f-85f7-67b0ef1ee42a"
      },
      "source": [
        "#Try your example here\n",
        "def round_to_two_places(num):\n",
        "    return round(num,-3)\n",
        "\n",
        "round_to_two_places(314159)"
      ],
      "execution_count": null,
      "outputs": [
        {
          "output_type": "execute_result",
          "data": {
            "text/plain": [
              "314000"
            ]
          },
          "metadata": {
            "tags": []
          },
          "execution_count": 30
        }
      ]
    },
    {
      "cell_type": "markdown",
      "metadata": {
        "id": "uM1ku4YsJQx9"
      },
      "source": [
        "# 3.\n",
        "In the previous assignment, the candy-sharing friends A, B and C tried to split candies evenly. For the sake of their friendship, any candies left over would be smashed. For example, if they collectively bring home 91 candies, they'll take 30 each and smash 1.\n",
        "\n",
        "Below is a simple function that will calculate the number of candies to smash for any number of total candies.\n",
        "\n",
        "Modify it so that it optionally takes a second argument representing the number of friends the candies are being split between. If no second argument is provided, it should assume 3 friends, as before.\n",
        "\n",
        "Update the docstring to reflect this new behaviour."
      ]
    },
    {
      "cell_type": "code",
      "metadata": {
        "id": "F8TEflM7JexD",
        "colab": {
          "base_uri": "https://localhost:8080/"
        },
        "outputId": "d95e0630-cae5-4813-e21e-fed5d8c9e70d"
      },
      "source": [
        "def to_smash(total_candies,friends=3):\n",
        "    \"\"\"Return the number of leftover candies that must be smashed after distributing\n",
        "    the given number of candies evenly between 3 friends.\n",
        "    \n",
        "    >>> to_smash(91)\n",
        "    1\n",
        "    \"\"\"\n",
        "    return total_candies % friends\n",
        "#Write your own code to call the function and then get a return value.\n",
        "to_smash(91,4)"
      ],
      "execution_count": null,
      "outputs": [
        {
          "output_type": "execute_result",
          "data": {
            "text/plain": [
              "3"
            ]
          },
          "metadata": {
            "tags": []
          },
          "execution_count": 47
        }
      ]
    },
    {
      "cell_type": "markdown",
      "metadata": {
        "id": "0CRn_zEuJlGu"
      },
      "source": [
        "# 3.1\n",
        "\n",
        " \"logging\" has been added to our `to_smash` function from the previous exercise."
      ]
    },
    {
      "cell_type": "code",
      "metadata": {
        "id": "LLqfkgJKKHxY",
        "colab": {
          "base_uri": "https://localhost:8080/"
        },
        "outputId": "4d7a3cc2-8a3b-4148-8510-25bc0ee549bc"
      },
      "source": [
        "def to_smash(total_candies):\n",
        "    \"\"\"Return the number of leftover candies that must be smashed after distributing\n",
        "    the given number of candies evenly between 3 friends.\n",
        "    \n",
        "    >>> to_smash(91)\n",
        "    1\n",
        "    \"\"\"\n",
        "    print(\"Splitting\", total_candies, \"candies\")\n",
        "    return total_candies % 3\n",
        "\n",
        "to_smash(91)"
      ],
      "execution_count": null,
      "outputs": [
        {
          "output_type": "stream",
          "text": [
            "Splitting 91 candies\n"
          ],
          "name": "stdout"
        },
        {
          "output_type": "execute_result",
          "data": {
            "text/plain": [
              "1"
            ]
          },
          "metadata": {
            "tags": []
          },
          "execution_count": 4
        }
      ]
    },
    {
      "cell_type": "markdown",
      "metadata": {
        "id": "3nI4D-VJKLIe"
      },
      "source": [
        "What happens if we call it with total_candies = 1?"
      ]
    },
    {
      "cell_type": "code",
      "metadata": {
        "id": "Zp_oI8O2KOk6",
        "colab": {
          "base_uri": "https://localhost:8080/"
        },
        "outputId": "495b6ce1-157b-40ee-c4fb-18f136637a02"
      },
      "source": [
        "def to_smash(total_candies):\n",
        "    \"\"\"Return the number of leftover candies that must be smashed after distributing\n",
        "    the given number of candies evenly between 3 friends.\n",
        "    \n",
        "    >>> to_smash(1)\n",
        "    1\n",
        "    \"\"\"\n",
        "    print(\"Splitting\", total_candies, \"candies\")\n",
        "    return total_candies % 3\n",
        "\n",
        "to_smash(1)"
      ],
      "execution_count": null,
      "outputs": [
        {
          "output_type": "stream",
          "text": [
            "Splitting 1 candies\n"
          ],
          "name": "stdout"
        },
        {
          "output_type": "execute_result",
          "data": {
            "text/plain": [
              "1"
            ]
          },
          "metadata": {
            "tags": []
          },
          "execution_count": 5
        }
      ]
    },
    {
      "cell_type": "markdown",
      "metadata": {
        "id": "pySOakLAKs4U"
      },
      "source": [
        "That isn't great grammar!\n",
        "\n",
        "Modify the definition in the cell below to correct the grammar of our print statement. (If there's only one candy, we should use the singular \"candy\" instead of the plural \"candies\")"
      ]
    },
    {
      "cell_type": "code",
      "metadata": {
        "id": "54XvxWYZKyIx",
        "colab": {
          "base_uri": "https://localhost:8080/"
        },
        "outputId": "38cd3bfb-109d-47b9-ebcc-0baaa64305f7"
      },
      "source": [
        "def to_smash(total_candies):\n",
        "    \"\"\"Return the number of leftover candies that must be smashed after distributing\n",
        "    the given number of candies evenly between 3 friends.\n",
        "    \n",
        "    >>> to_smash(91)\n",
        "    1\n",
        "    \"\"\"\n",
        "    if total_candies==1 :\n",
        "      print(\"Splitting\", total_candies, \"candy\")\n",
        "    else :\n",
        "      print(\"Splitting\", total_candies, \"candies\")\n",
        "    return total_candies % 3\n",
        "\n",
        "to_smash(91)\n",
        "to_smash(1)"
      ],
      "execution_count": null,
      "outputs": [
        {
          "output_type": "stream",
          "text": [
            "Splitting 91 candies\n",
            "Splitting 1 candy\n"
          ],
          "name": "stdout"
        },
        {
          "output_type": "execute_result",
          "data": {
            "text/plain": [
              "1"
            ]
          },
          "metadata": {
            "tags": []
          },
          "execution_count": 48
        }
      ]
    },
    {
      "cell_type": "markdown",
      "metadata": {
        "id": "jS_eLjnzK6EP"
      },
      "source": [
        "# 4. \n",
        "Let's say we are deciding whether we're prepared for the weather. I'm safe from today's weather if...\n",
        "- I have an umbrella...\n",
        "- or if the rain isn't too heavy and I have a hood...\n",
        "- otherwise, I'm still fine unless it's raining *and* it's a workday\n",
        "\n",
        "The function below uses the first attempt at turning this logic into a Python expression. I claimed that there was a bug in that code. Can you find it?\n",
        "\n",
        "To prove that `prepared_for_weather` is buggy, come up with a set of inputs where either:\n",
        "- the function returns `False` (but should have returned `True`), or\n",
        "- the function returned `True` (but should have returned `False`)."
      ]
    },
    {
      "cell_type": "code",
      "metadata": {
        "id": "8xefqijaLKvP",
        "colab": {
          "base_uri": "https://localhost:8080/"
        },
        "outputId": "5e5d6ccc-c7ec-441d-98a7-3b68d3849714"
      },
      "source": [
        "def prepared_for_weather(have_umbrella, rain_level, have_hood, is_workday):\n",
        "    # Don't change this code. Our goal is just to find the bug, not fix it!\n",
        "    return have_umbrella or rain_level < 5 and have_hood or not rain_level > 0 and is_workday\n",
        "\n",
        "# Change the values of these inputs so they represent a case where prepared_for_weather\n",
        "# returns the wrong answer.\n",
        "have_umbrella = False\n",
        "rain_level = 0.0\n",
        "have_hood = False\n",
        "is_workday = False\n",
        "\n",
        "# Check what the function returns given the current values of the variables above\n",
        "actual = prepared_for_weather(have_umbrella, rain_level, have_hood, is_workday)\n",
        "print(actual)"
      ],
      "execution_count": null,
      "outputs": [
        {
          "output_type": "stream",
          "text": [
            "False\n"
          ],
          "name": "stdout"
        }
      ]
    },
    {
      "cell_type": "markdown",
      "metadata": {
        "id": "gtZp6KoLLSW0"
      },
      "source": [
        "# 5.\n",
        "\n",
        "The function `is_negative` below is implemented correctly - it returns True if the given number is negative and False otherwise.\n",
        "\n",
        "However, it's more complicated than it needs to be. We can actually reduce the number of lines of code in this function by *75%* while keeping the same behaviour. \n",
        "\n",
        "See if you can come up with an equivalent body that uses just **one line** of code, and put it in the function `concise_is_negative`. (HINT: you don't even need Python's ternary syntax)"
      ]
    },
    {
      "cell_type": "code",
      "metadata": {
        "id": "hCcx-RgILeBn",
        "colab": {
          "base_uri": "https://localhost:8080/"
        },
        "outputId": "690e7f53-b083-4508-f3ec-d2c8bd8be18e"
      },
      "source": [
        "def is_negative(number):\n",
        "    if number < 0:\n",
        "        return True\n",
        "    else:\n",
        "        return False\n",
        "\n",
        "def concise_is_negative(number):\n",
        "    pass # Your code goes here (try to keep it to one line!)\n",
        "    return number<0\n",
        "\n",
        "concise_is_negative(8)  "
      ],
      "execution_count": null,
      "outputs": [
        {
          "output_type": "execute_result",
          "data": {
            "text/plain": [
              "False"
            ]
          },
          "metadata": {
            "tags": []
          },
          "execution_count": 55
        }
      ]
    },
    {
      "cell_type": "markdown",
      "metadata": {
        "id": "nJ5efDuILtSU"
      },
      "source": [
        "# 5a.\n",
        "\n",
        "The boolean variables `ketchup`, `mustard` and `onion` represent whether a customer wants a particular topping on their hot dog. We want to implement a number of boolean functions that correspond to some yes-or-no questions about the customer's order. For example:"
      ]
    },
    {
      "cell_type": "code",
      "metadata": {
        "id": "qiuIRm3KLyfl",
        "colab": {
          "base_uri": "https://localhost:8080/"
        },
        "outputId": "4f2b32de-4592-4a95-91d1-80201b2242a6"
      },
      "source": [
        "#There is no modification here, just call the function with the appropriate parameters \n",
        "def onionless(ketchup, mustard, onion):\n",
        "    \"\"\"Return whether the customer doesn't want onions.\n",
        "    \"\"\"\n",
        "    return not onion\n",
        "onionless(1,1,0)"
      ],
      "execution_count": null,
      "outputs": [
        {
          "output_type": "execute_result",
          "data": {
            "text/plain": [
              "True"
            ]
          },
          "metadata": {
            "tags": []
          },
          "execution_count": 12
        }
      ]
    },
    {
      "cell_type": "code",
      "metadata": {
        "id": "kxS-jRTrMBDv",
        "colab": {
          "base_uri": "https://localhost:8080/"
        },
        "outputId": "fd73d777-610b-4890-a6f2-1b1b907c5909"
      },
      "source": [
        "# Write the return statemnt and call the function with appropriate parameters\n",
        "def wants_all_toppings(ketchup, mustard, onion):\n",
        "    \"\"\"Return whether the customer wants all 3 toppings\n",
        "    \"\"\"\n",
        "    pass\n",
        "    return bool(ketchup and mustard and onion)\n",
        "wants_all_toppings(1,1,1)"
      ],
      "execution_count": null,
      "outputs": [
        {
          "output_type": "execute_result",
          "data": {
            "text/plain": [
              "True"
            ]
          },
          "metadata": {
            "tags": []
          },
          "execution_count": 4
        }
      ]
    },
    {
      "cell_type": "markdown",
      "metadata": {
        "id": "xPHyJJy9MaRb"
      },
      "source": [
        "# 6. \n",
        "Complete according to the docstring by calling the said functions with appropriate parameters. "
      ]
    },
    {
      "cell_type": "code",
      "metadata": {
        "id": "32-T98UyMexJ",
        "colab": {
          "base_uri": "https://localhost:8080/"
        },
        "outputId": "c3a1ada4-14aa-4300-d459-c512288c58c7"
      },
      "source": [
        "def select_second(L):\n",
        "    \"\"\"Return the second element of the given list. If the list has no second\n",
        "    element, return None.\n",
        "    \"\"\"\n",
        "    if len(L)>=2 :\n",
        "      return L[1]  \n",
        "      \n",
        "select_second([1,2,])\n"
      ],
      "execution_count": null,
      "outputs": [
        {
          "output_type": "execute_result",
          "data": {
            "text/plain": [
              "2"
            ]
          },
          "metadata": {
            "tags": []
          },
          "execution_count": 2
        }
      ]
    },
    {
      "cell_type": "markdown",
      "metadata": {
        "id": "1f9MmH0IMmj2"
      },
      "source": [
        "# 6.1\n",
        "You are analyzing sports teams.  Members of each team are stored in a list. The Coach is the first name in the list, the captain is the second name in the list, and other players are listed after that. \n",
        "These lists are stored in another list, which starts with the best team and proceeds through the list to the worst team last.  Complete the function below to select the **captain** of the worst team."
      ]
    },
    {
      "cell_type": "code",
      "metadata": {
        "id": "_I3PPfMtMr3z",
        "colab": {
          "base_uri": "https://localhost:8080/",
          "height": 35
        },
        "outputId": "b628575d-e368-4f8d-ce95-9f5188180e73"
      },
      "source": [
        "def losing_team_captain(teams):\n",
        "    \"\"\"Given a list of teams, where each team is a list of names, return the 2nd player (captain)\n",
        "    from the last listed team\n",
        "    \"\"\"\n",
        "    pass\n",
        "\n",
        "    return teams[-1][1]\n",
        "teams = [['co1','ca1','a1','a2','a3',],['co2','ca2','b1','b2','b3',],['co3','ca2','c1','c2','c3',],['co4','ca5','d1','d2','d3',]]\n",
        "losing_team_captain(teams)\n",
        "#Hint: YOu need to pass a List of Lists; Remeber a list L = [<>,<>]. List of lists is L1 = [[,],[,],[,]...]"
      ],
      "execution_count": null,
      "outputs": [
        {
          "output_type": "execute_result",
          "data": {
            "application/vnd.google.colaboratory.intrinsic+json": {
              "type": "string"
            },
            "text/plain": [
              "'ca5'"
            ]
          },
          "metadata": {
            "tags": []
          },
          "execution_count": 19
        }
      ]
    },
    {
      "cell_type": "markdown",
      "metadata": {
        "id": "QWr1KUDcNIxL"
      },
      "source": [
        "What are the lengths of the following lists? Fill in the variable lengths with your predictions. (Try to make a prediction for each list without just calling len() on it.)"
      ]
    },
    {
      "cell_type": "code",
      "metadata": {
        "id": "BOHZKAExNJ_l",
        "colab": {
          "base_uri": "https://localhost:8080/"
        },
        "outputId": "de929a1e-9e7c-485c-d09a-b3f590c9cd2b"
      },
      "source": [
        "a = [1, 2, 3]\n",
        "b = [1, [2, 3]]\n",
        "c = []\n",
        "d = [1, 2, 3][1:]\n",
        "\n",
        "# Put your predictions in the list below. Lengths should contain 4 numbers, the\n",
        "# first being the length of a, the second being the length of b and so on.\n",
        "lengths = [3,2,0,2]\n",
        "if lengths[0]==len(a) and lengths[1]==len(b) and lengths[2]==len(c) and lengths[3]==len(d) :\n",
        "  print(\"correct\")\n",
        "else :\n",
        "  print(\"incorrect\")"
      ],
      "execution_count": null,
      "outputs": [
        {
          "output_type": "stream",
          "text": [
            "correct\n"
          ],
          "name": "stdout"
        }
      ]
    }
  ]
}